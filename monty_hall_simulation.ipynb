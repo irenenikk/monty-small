{
 "cells": [
  {
   "cell_type": "markdown",
   "metadata": {},
   "source": [
    "# A tiny simulation of the Monty Hall problem"
   ]
  },
  {
   "cell_type": "markdown",
   "metadata": {},
   "source": [
    "Seriously, it's minimal."
   ]
  },
  {
   "cell_type": "markdown",
   "metadata": {},
   "source": [
    "In case you're not familiar with the formulation, [here's](https://en.wikipedia.org/wiki/Monty_Hall_problem) the wiki page."
   ]
  },
  {
   "cell_type": "markdown",
   "metadata": {},
   "source": [
    "A brief look into the mathematical foundations:\n",
    "\n",
    "There are two winning strategies: either the player sticks with the initial choice, or they switch after Monty's choice. We'll look into the probability of winning using both of these.\n",
    "\n",
    "If the player desides not to switch, the probability of winning is choosing the car initially. Since there are thre doors and only one car, and the player has no prior information, the probability of making the best choice is `1/3`.\n",
    "\n",
    "On the other hand, if the player decides to switch, the probability of winning is `2/3`, because there are two goats. If the player chooses a goat initially, Monty can only open one door, since there is only one door left with a goat behind it. Thus if the palyer chooses a goat initially, it is certain that they will choose the car by switching."
   ]
  },
  {
   "cell_type": "code",
   "execution_count": 16,
   "metadata": {},
   "outputs": [],
   "source": [
    "import random\n",
    "import numpy as np"
   ]
  },
  {
   "cell_type": "code",
   "execution_count": 165,
   "metadata": {},
   "outputs": [],
   "source": [
    "random.seed(42)\n",
    "N = 1e6\n",
    "# player makes initial choice\n",
    "initial_choices = np.random.randint(0, 3, int(N))\n",
    "# the place of the car\n",
    "car_indexes = np.random.randint(0, 3, int(N))"
   ]
  },
  {
   "cell_type": "markdown",
   "metadata": {},
   "source": [
    "Switching doors is beneficial when the player didn't choose it initially."
   ]
  },
  {
   "cell_type": "code",
   "execution_count": 159,
   "metadata": {},
   "outputs": [
    {
     "data": {
      "text/plain": [
       "0.666946"
      ]
     },
     "execution_count": 159,
     "metadata": {},
     "output_type": "execute_result"
    }
   ],
   "source": [
    "sum(initial_choices != car_indexes)/N"
   ]
  },
  {
   "cell_type": "markdown",
   "metadata": {},
   "source": [
    "which obviously approximates 2/3.  Thus switching doors is likely to be a better choice.\n",
    "\n",
    "We can still do the whole simulation just to make a point."
   ]
  },
  {
   "cell_type": "code",
   "execution_count": 164,
   "metadata": {},
   "outputs": [
    {
     "name": "stdout",
     "output_type": "stream",
     "text": [
      "Fraction of cases where switching lead to getting a car: [0.666033]\n"
     ]
    }
   ],
   "source": [
    "random.seed(42)\n",
    "successes = 0\n",
    "for _ in range(int(N)):\n",
    "    # the place of the car\n",
    "    car_index = random.randint(0, 2)\n",
    "    # player makes initial choice\n",
    "    initial_choice = random.randint(0, 2)\n",
    "    # next, monty makes a choice\n",
    "    # he opens a door which does not contain a car\n",
    "    # and which the player hasn't picked\n",
    "    possibilities = np.asarray(range(3))\n",
    "    montys_choice = random.choice(possibilities[(possibilities != initial_choice) & (possibilities != car_index)])\n",
    "    # the following is really unnecessarily complicated, but I did it this way for the sake of the simulation\n",
    "    # really the point is did the player choose the car initially or not\n",
    "    # but yeah this checks if the door which is not initially picked, and not picked by monty, contains the car\n",
    "    success_by_switching = possibilities[(possibilities != initial_choice) & (possibilities != montys_choice)] == car_index\n",
    "    successes += success_by_switching\n",
    "print('Fraction of cases where switching lead to getting a car:', successes/N)"
   ]
  },
  {
   "cell_type": "markdown",
   "metadata": {},
   "source": [
    "Which is also very close to 2/3, and thus switching is twice as likely to be the better choice compared to sticking with the original one."
   ]
  }
 ],
 "metadata": {
  "kernelspec": {
   "display_name": "Python 3",
   "language": "python",
   "name": "python3"
  },
  "language_info": {
   "codemirror_mode": {
    "name": "ipython",
    "version": 3
   },
   "file_extension": ".py",
   "mimetype": "text/x-python",
   "name": "python",
   "nbconvert_exporter": "python",
   "pygments_lexer": "ipython3",
   "version": "3.7.3"
  }
 },
 "nbformat": 4,
 "nbformat_minor": 2
}
